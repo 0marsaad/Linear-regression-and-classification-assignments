{
 "cells": [
  {
   "cell_type": "code",
   "execution_count": 1,
   "metadata": {},
   "outputs": [],
   "source": [
    "#Import libraries \n",
    "import numpy as np\n",
    "import pandas as pd\n",
    "from sklearn.preprocessing import StandardScaler, LabelEncoder\n",
    "from sklearn.model_selection import train_test_split\n",
    "from sklearn.model_selection import cross_val_score\n",
    "from sklearn.neighbors import KNeighborsClassifier\n",
    "from sklearn.metrics import accuracy_score, precision_score, recall_score, f1_score, confusion_matrix\n",
    "import math"
   ]
  },
  {
   "cell_type": "markdown",
   "metadata": {},
   "source": [
    "## Reading data and preparing for training"
   ]
  },
  {
   "cell_type": "code",
   "execution_count": 12,
   "metadata": {},
   "outputs": [
    {
     "name": "stdout",
     "output_type": "stream",
     "text": [
      "<class 'pandas.core.frame.DataFrame'>\n",
      "RangeIndex: 19020 entries, 0 to 19019\n",
      "Data columns (total 11 columns):\n",
      " #   Column  Non-Null Count  Dtype  \n",
      "---  ------  --------------  -----  \n",
      " 0   0       19020 non-null  float64\n",
      " 1   1       19020 non-null  float64\n",
      " 2   2       19020 non-null  float64\n",
      " 3   3       19020 non-null  float64\n",
      " 4   4       19020 non-null  float64\n",
      " 5   5       19020 non-null  float64\n",
      " 6   6       19020 non-null  float64\n",
      " 7   7       19020 non-null  float64\n",
      " 8   8       19020 non-null  float64\n",
      " 9   9       19020 non-null  float64\n",
      " 10  10      19020 non-null  object \n",
      "dtypes: float64(10), object(1)\n",
      "memory usage: 1.6+ MB\n"
     ]
    },
    {
     "data": {
      "text/html": [
       "<div>\n",
       "<style scoped>\n",
       "    .dataframe tbody tr th:only-of-type {\n",
       "        vertical-align: middle;\n",
       "    }\n",
       "\n",
       "    .dataframe tbody tr th {\n",
       "        vertical-align: top;\n",
       "    }\n",
       "\n",
       "    .dataframe thead th {\n",
       "        text-align: right;\n",
       "    }\n",
       "</style>\n",
       "<table border=\"1\" class=\"dataframe\">\n",
       "  <thead>\n",
       "    <tr style=\"text-align: right;\">\n",
       "      <th></th>\n",
       "      <th>0</th>\n",
       "      <th>1</th>\n",
       "      <th>2</th>\n",
       "      <th>3</th>\n",
       "      <th>4</th>\n",
       "      <th>5</th>\n",
       "      <th>6</th>\n",
       "      <th>7</th>\n",
       "      <th>8</th>\n",
       "      <th>9</th>\n",
       "      <th>10</th>\n",
       "    </tr>\n",
       "  </thead>\n",
       "  <tbody>\n",
       "    <tr>\n",
       "      <th>675</th>\n",
       "      <td>39.7082</td>\n",
       "      <td>18.2593</td>\n",
       "      <td>2.854</td>\n",
       "      <td>0.2827</td>\n",
       "      <td>0.1561</td>\n",
       "      <td>7.781</td>\n",
       "      <td>36.6955</td>\n",
       "      <td>7.6006</td>\n",
       "      <td>27.696</td>\n",
       "      <td>260.092</td>\n",
       "      <td>0</td>\n",
       "    </tr>\n",
       "  </tbody>\n",
       "</table>\n",
       "</div>"
      ],
      "text/plain": [
       "          0        1      2       3       4      5        6       7       8   \\\n",
       "675  39.7082  18.2593  2.854  0.2827  0.1561  7.781  36.6955  7.6006  27.696   \n",
       "\n",
       "          9  10  \n",
       "675  260.092  0  "
      ]
     },
     "execution_count": 12,
     "metadata": {},
     "output_type": "execute_result"
    }
   ],
   "source": [
    "# Load the dfset\n",
    "data_path=\"KnnData.csv\"\n",
    "df = pd.read_csv(data_path, header=None)\n",
    "# Convert last column to numeric (discrete)\n",
    "df.iloc[:, -1] = LabelEncoder().fit_transform(df.iloc[:, -1]) \n",
    "\n",
    "df.info()\n",
    "df.sample(1)\n"
   ]
  },
  {
   "cell_type": "code",
   "execution_count": 13,
   "metadata": {},
   "outputs": [],
   "source": [
    "# Delete some rows to balance the data between gammas & hadrons\n",
    "start_index = 0\n",
    "end_index = 12332 \n",
    "num_rows_to_remove = 5644  \n",
    "if num_rows_to_remove < df.shape[0]:\n",
    "    random_indices_to_remove = np.random.choice(range(start_index, end_index + 1), \n",
    "                                                 size=num_rows_to_remove, \n",
    "                                                 replace=False)\n",
    "\n",
    "    # Drop the randomly selected rows\n",
    "    df = df.drop(random_indices_to_remove)\n",
    "    df.reset_index(drop=True, inplace=True)\n"
   ]
  },
  {
   "cell_type": "code",
   "execution_count": 14,
   "metadata": {},
   "outputs": [
    {
     "name": "stdout",
     "output_type": "stream",
     "text": [
      "<class 'pandas.core.frame.DataFrame'>\n",
      "RangeIndex: 13376 entries, 0 to 13375\n",
      "Data columns (total 11 columns):\n",
      " #   Column  Non-Null Count  Dtype  \n",
      "---  ------  --------------  -----  \n",
      " 0   0       13376 non-null  float64\n",
      " 1   1       13376 non-null  float64\n",
      " 2   2       13376 non-null  float64\n",
      " 3   3       13376 non-null  float64\n",
      " 4   4       13376 non-null  float64\n",
      " 5   5       13376 non-null  float64\n",
      " 6   6       13376 non-null  float64\n",
      " 7   7       13376 non-null  float64\n",
      " 8   8       13376 non-null  float64\n",
      " 9   9       13376 non-null  float64\n",
      " 10  10      13376 non-null  int64  \n",
      "dtypes: float64(10), int64(1)\n",
      "memory usage: 1.1 MB\n"
     ]
    }
   ],
   "source": [
    "# Convert last column type from object to int \n",
    "# df.iloc[:, -1] = df.iloc[:, -1].astype(int)\n",
    "df[10] = pd.to_numeric(df[10])\n",
    "\n",
    "df.info()"
   ]
  },
  {
   "cell_type": "markdown",
   "metadata": {},
   "source": [
    "### Spliting data"
   ]
  },
  {
   "cell_type": "code",
   "execution_count": 15,
   "metadata": {},
   "outputs": [],
   "source": [
    "# Separate features (X) and target (y)\n",
    "X = df.iloc[:, :-1].values  # All columns except the last one are features\n",
    "y = df.iloc[:, -1].values  # Last column\n",
    "\n",
    "# Split the dataset into training and testing sets\n",
    "X_train, X_test, y_train, y_test = train_test_split(X, y, test_size=0.3, random_state=42,stratify=y)\n",
    "# Split the testing sets into validation and testing sets\n",
    "X_test, X_val, y_test, y_val = train_test_split(X_test, y_test, test_size=0.5, random_state=42,stratify=y_test) \n",
    "# Standardize the features (scaling is important for KNN)\n",
    "scaler = StandardScaler()\n",
    "X_train_scaled = scaler.fit_transform(X_train)\n",
    "X_val_scaled = scaler.fit_transform(X_val)\n",
    "X_test_scaled = scaler.transform(X_test)"
   ]
  },
  {
   "cell_type": "markdown",
   "metadata": {},
   "source": [
    "## Training the model and testing it  "
   ]
  },
  {
   "cell_type": "markdown",
   "metadata": {},
   "source": [
    "### Try different Ks to find the best"
   ]
  },
  {
   "cell_type": "markdown",
   "metadata": {},
   "source": [
    "### different methods"
   ]
  },
  {
   "cell_type": "code",
   "execution_count": 16,
   "metadata": {},
   "outputs": [],
   "source": [
    "# kn_pairs=[]"
   ]
  },
  {
   "cell_type": "code",
   "execution_count": 17,
   "metadata": {},
   "outputs": [],
   "source": [
    "# # Create and train the KNN model\n",
    "# n_neighbors =1\n",
    "# knn = KNeighborsClassifier(n_neighbors)\n",
    "# knn.fit(X_train_scaled, y_train)\n",
    "# # Predict on validation set\n",
    "# y_val_pred = knn.predict(X_val_scaled)\n",
    "\n",
    "# # Evaluate the model with K=1\n",
    "# val_accuracy = knn.score(X_val_scaled, y_val)\n",
    "# val_precision = precision_score(y_val, y_val_pred)\n",
    "# val_recall = recall_score(y_val, y_val_pred)\n",
    "# val_f1 = f1_score(y_val, y_val_pred)\n",
    "# val_conf_matrix = confusion_matrix(y_val, y_val_pred)\n",
    "\n",
    "# # Print the results\n",
    "# print(f\"Validation Accuracy: {val_accuracy * 100:.2f}%\")\n",
    "# print(f\"Test Precision: {val_precision:.2f}\")\n",
    "# print(f\"Test Recall: {val_recall:.2f}\")\n",
    "# print(f\"Test F1 Score: {val_f1:.2f}\")\n",
    "# print(\"Confusion Matrix:\")\n",
    "# print(val_conf_matrix)\n",
    "# kn_pairs.append([n_neighbors,val_accuracy])"
   ]
  },
  {
   "cell_type": "code",
   "execution_count": 18,
   "metadata": {},
   "outputs": [],
   "source": [
    "# # Create and train the KNN model\n",
    "# n_neighbors =33\n",
    "# knn = KNeighborsClassifier(n_neighbors)\n",
    "# knn.fit(X_train_scaled, y_train)\n",
    "# # Predict on validation set\n",
    "# y_val_pred = knn.predict(X_val_scaled)\n",
    "\n",
    "# # Evaluate the model with K=33\n",
    "# val_accuracy = knn.score(X_val_scaled, y_val)\n",
    "# val_precision = precision_score(y_val, y_val_pred)\n",
    "# val_recall = recall_score(y_val, y_val_pred)\n",
    "# val_f1 = f1_score(y_val, y_val_pred)\n",
    "# val_conf_matrix = confusion_matrix(y_val, y_val_pred)\n",
    "\n",
    "# # Print the results\n",
    "# print(f\"Validation Accuracy: {val_accuracy * 100:.2f}%\")\n",
    "# print(f\"Test Precision: {val_precision:.2f}\")\n",
    "# print(f\"Test Recall: {val_recall:.2f}\")\n",
    "# print(f\"Test F1 Score: {val_f1:.2f}\")\n",
    "# print(\"Confusion Matrix:\")\n",
    "# print(val_conf_matrix)\n",
    "# kn_pairs.append([n_neighbors,val_accuracy])"
   ]
  },
  {
   "cell_type": "code",
   "execution_count": 19,
   "metadata": {},
   "outputs": [],
   "source": [
    "# # finding the best k related to this split\n",
    "# max_k, max_val = kn_pairs[0]  \n",
    "# for pair in kn_pairs[1:]:  \n",
    "#     value1, value2 = pair  \n",
    "#     if value2 > max_val:\n",
    "#         max_val = value2\n",
    "#         max_k = value1  # Update max_k with the current k value\n",
    "# max_k"
   ]
  },
  {
   "cell_type": "markdown",
   "metadata": {},
   "source": [
    "### All possible Ks"
   ]
  },
  {
   "cell_type": "code",
   "execution_count": 20,
   "metadata": {},
   "outputs": [
    {
     "name": "stdout",
     "output_type": "stream",
     "text": [
      "Validation Accuracy: 80.87%\n",
      "Test Precision: 0.85\n",
      "Test Recall: 0.74\n",
      "Test F1 Score: 0.80\n",
      "Confusion Matrix:\n",
      "[[876 128]\n",
      " [256 747]]\n",
      "Kmax=  13\n"
     ]
    }
   ],
   "source": [
    "# Create and train the KNN \n",
    "knn = KNeighborsClassifier(n_neighbors=1)\n",
    "knn.fit(X_train_scaled, y_train)\n",
    "# Predict on validation set\n",
    "y_val_pred = knn.predict(X_val_scaled)\n",
    "# Evaluate the model with k\n",
    "max_accuracy = knn.score(X_val_scaled, y_val)\n",
    "max_precision = precision_score(y_val, y_val_pred)\n",
    "max_recall = recall_score(y_val, y_val_pred)\n",
    "max_f1 = f1_score(y_val, y_val_pred)\n",
    "max_conf_matrix = confusion_matrix(y_val, y_val_pred)\n",
    "max=1\n",
    "for n_neighbors in range(3,int(math.sqrt(len(X_train))),2):\n",
    "    knn = KNeighborsClassifier(n_neighbors)\n",
    "    knn.fit(X_train_scaled, y_train)\n",
    "    # Predict on validation set\n",
    "    y_val_pred = knn.predict(X_val_scaled)\n",
    "    # Evaluate the model with k\n",
    "    val_accuracy = knn.score(X_val_scaled, y_val)\n",
    "    val_precision = precision_score(y_val, y_val_pred)\n",
    "    val_recall = recall_score(y_val, y_val_pred)\n",
    "    val_f1 = f1_score(y_val, y_val_pred)\n",
    "    val_conf_matrix = confusion_matrix(y_val, y_val_pred)\n",
    "    if max_accuracy <val_accuracy:\n",
    "        max_accuracy = val_accuracy \n",
    "        max_precision =val_precision\n",
    "        max_recall =val_recall  \n",
    "        max_f1 =val_f1 \n",
    "        max_conf_matrix =val_conf_matrix \n",
    "        max = n_neighbors\n",
    "\n",
    "\n",
    "# Print the results\n",
    "print(f\"Validation Accuracy: {max_accuracy * 100:.2f}%\")\n",
    "print(f\"Test Precision: {max_precision:.2f}\")\n",
    "print(f\"Test Recall: {max_recall:.2f}\")\n",
    "print(f\"Test F1 Score: {max_f1:.2f}\")\n",
    "print(\"Confusion Matrix:\")\n",
    "print(max_conf_matrix)\n",
    "print(\"Kmax= \",max)\n",
    "\n",
    "# kn_pairs.append([n_neighbors,val_accuracy])"
   ]
  },
  {
   "cell_type": "markdown",
   "metadata": {},
   "source": [
    "#### observation\n",
    "the K value of KNN result bad accuracy score if it is too small or too big (which is expected as overfitting and underfitting)\n",
    "the scores is increasing till special value then start to decreasing  "
   ]
  },
  {
   "cell_type": "markdown",
   "metadata": {},
   "source": [
    "### Test the model with best K from validation"
   ]
  },
  {
   "cell_type": "code",
   "execution_count": 21,
   "metadata": {},
   "outputs": [
    {
     "name": "stdout",
     "output_type": "stream",
     "text": [
      "Test Accuracy: 80.51%\n",
      "Test Precision: 0.86\n",
      "Test Recall: 0.73\n",
      "Test F1 Score: 0.79\n",
      "Confusion Matrix:\n",
      "[[883 120]\n",
      " [271 732]]\n"
     ]
    }
   ],
   "source": [
    "#test the model with the highest accurate validation set\n",
    "knn = KNeighborsClassifier(n_neighbors=max)\n",
    "knn.fit(X_train_scaled, y_train)\n",
    "y_pred = knn.predict(X_test_scaled)\n",
    "\n",
    "# Evaluate the model\n",
    "accuracy = accuracy_score(y_test, y_pred)\n",
    "precision = precision_score(y_test, y_pred)\n",
    "recall = recall_score(y_test, y_pred)\n",
    "f1 = f1_score(y_test, y_pred)\n",
    "conf_matrix = confusion_matrix(y_test, y_pred)\n",
    "\n",
    "# Print the results\n",
    "print(f\"Test Accuracy: {accuracy * 100:.2f}%\")\n",
    "print(f\"Test Precision: {precision:.2f}\")\n",
    "print(f\"Test Recall: {recall:.2f}\")\n",
    "print(f\"Test F1 Score: {f1:.2f}\")\n",
    "print(\"Confusion Matrix:\")\n",
    "print(conf_matrix)"
   ]
  }
 ],
 "metadata": {
  "kernelspec": {
   "display_name": "Python 3",
   "language": "python",
   "name": "python3"
  },
  "language_info": {
   "codemirror_mode": {
    "name": "ipython",
    "version": 3
   },
   "file_extension": ".py",
   "mimetype": "text/x-python",
   "name": "python",
   "nbconvert_exporter": "python",
   "pygments_lexer": "ipython3",
   "version": "3.11.1"
  }
 },
 "nbformat": 4,
 "nbformat_minor": 2
}
